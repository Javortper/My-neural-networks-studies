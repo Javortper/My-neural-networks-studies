{
 "cells": [
  {
   "cell_type": "code",
   "execution_count": 32,
   "metadata": {},
   "outputs": [],
   "source": [
    "import numpy as np\n",
    "import scipy as sc\n",
    "import matplotlib.pyplot as plt\n",
    "\n",
    "from sklearn.datasets import make_circles"
   ]
  },
  {
   "cell_type": "code",
   "execution_count": 33,
   "metadata": {},
   "outputs": [
    {
     "data": {
      "image/png": "[encoded data removed]",
      "text/plain": [
       "<Figure size 432x288 with 1 Axes>"
      ]
     },
     "metadata": {},
     "output_type": "display_data"
    }
   ],
   "source": [
    "#CREACIÓN DEL DATASET\n",
    "\n",
    "n = 500 #Numero de datos\n",
    "p = 2   #Número de características de cada dato\n",
    "\n",
    "#En X guarda los puntos del dataset (X[0],X[1])\n",
    "#En Y guarda un vector binario [0,1]. El círculo al que corresponde\n",
    "X, Y = make_circles(n_samples=n, factor=0.5, noise=0.07) \n",
    "plt.scatter(X[Y == 0,0], X[Y == 0, 1], c=\"skyblue\")\n",
    "plt.scatter(X[Y == 1,0], X[Y == 1, 1], c=\"salmon\")\n",
    "plt.axis(\"equal\")\n",
    "plt.show()\n"
   ]
  },
  {
   "cell_type": "code",
   "execution_count": 34,
   "metadata": {},
   "outputs": [],
   "source": [
    "#CLASE DE LA CAPA DE LA RED\n",
    "class neural_layer:\n",
    "    \n",
    "    def __init__(self, n_conn, n_neur, act_f):\n",
    "        self.act_f = act_f\n",
    "        self.b = np.random.rand(1, n_neur) * 2-1 #rand(n_columnas, n_filas)\n",
    "        self.w = np.random.rand(n_conn, n_neur) * 2-1"
   ]
  },
  {
   "cell_type": "code",
   "execution_count": 35,
   "metadata": {},
   "outputs": [],
   "source": [
    "#FUNCIÖNES DE ACTIVACIÓN\n",
    "sigm = (lambda x: 1/(1+np.e**(-x)),\n",
    "        lambda x: x * (1-x))\n",
    "\n",
    "\n"
   ]
  },
  {
   "cell_type": "code",
   "execution_count": 39,
   "metadata": {},
   "outputs": [
    {
     "data": {
      "text/plain": [
       "[<__main__.neural_layer at 0x216f0558d30>,\n",
       " <__main__.neural_layer at 0x216f15d4358>,\n",
       " <__main__.neural_layer at 0x216f15d4390>,\n",
       " <__main__.neural_layer at 0x216f15d4a58>,\n",
       " <__main__.neural_layer at 0x216f15d4e10>]"
      ]
     },
     "execution_count": 39,
     "metadata": {},
     "output_type": "execute_result"
    }
   ],
   "source": [
    "def create_nn(topology, act_f):\n",
    "    nn = []\n",
    "    for i, layer in enumerate(topology[:-1]):\n",
    "        nn.append(neural_layer(topology[i], topology[i+1], act_f))\n",
    "        \n",
    "    return nn    "
   ]
  },
  {
   "cell_type": "code",
   "execution_count": null,
   "metadata": {},
   "outputs": [],
   "source": [
    "topology = [p, 4,8,16,8,1]\n",
    "create_nn(topology, sigm)\n",
    "l2_cost = (lambda Yp, Yr: np.mean((Yp - Yr)**2), #Error cuadrático medio entre salida prediccha y salida real\n",
    "           lambda Yp, Yr: (Yp - Yr))\n",
    "\n",
    "def train(neural_net, X, Y, l2_cort, lr=0.5): #Entrada, Backpropagation y Gradient Descent.\n",
    "    # X -> Vector entrada. Y -> Vector salida\n",
    "    # Forward pass (Pasarle un dato a la red y que lo procese)\n",
    "    \n",
    "    z = X @ neural_net[0].W + neural_net[0].b #Suma ponderada de la primera capa\n",
    "    a = neural_net[0].act_f(z) #Salida de la capa 1."
   ]
  },
  {
   "cell_type": "code",
   "execution_count": 56,
   "metadata": {},
   "outputs": [
    {
     "ename": "ValueError",
     "evalue": "shapes (1,3) and (1,3) not aligned: 3 (dim 1) != 1 (dim 0)",
     "output_type": "error",
     "traceback": [
      "\u001b[1;31m---------------------------------------------------------------------------\u001b[0m",
      "\u001b[1;31mValueError\u001b[0m                                Traceback (most recent call last)",
      "\u001b[1;32m<ipython-input-56-22a2efc0f3bc>\u001b[0m in \u001b[0;36m<module>\u001b[1;34m()\u001b[0m\n\u001b[1;32m----> 1\u001b[1;33m \u001b[0ma\u001b[0m \u001b[1;33m=\u001b[0m \u001b[0mnp\u001b[0m\u001b[1;33m.\u001b[0m\u001b[0marray\u001b[0m\u001b[1;33m(\u001b[0m\u001b[1;33m[\u001b[0m\u001b[1;33m[\u001b[0m\u001b[1;36m1\u001b[0m\u001b[1;33m,\u001b[0m\u001b[1;36m2\u001b[0m\u001b[1;33m,\u001b[0m\u001b[1;36m3\u001b[0m\u001b[1;33m]\u001b[0m\u001b[1;33m]\u001b[0m\u001b[1;33m)\u001b[0m \u001b[1;33m@\u001b[0m \u001b[0mnp\u001b[0m\u001b[1;33m.\u001b[0m\u001b[0marray\u001b[0m\u001b[1;33m(\u001b[0m\u001b[1;33m[\u001b[0m\u001b[1;33m[\u001b[0m\u001b[1;36m1\u001b[0m\u001b[1;33m,\u001b[0m\u001b[1;36m2\u001b[0m\u001b[1;33m,\u001b[0m\u001b[1;36m3\u001b[0m\u001b[1;33m]\u001b[0m\u001b[1;33m]\u001b[0m\u001b[1;33m)\u001b[0m\u001b[1;33m\u001b[0m\u001b[0m\n\u001b[0m",
      "\u001b[1;31mValueError\u001b[0m: shapes (1,3) and (1,3) not aligned: 3 (dim 1) != 1 (dim 0)"
     ]
    }
   ],
   "source": [
    "a = np.array([[1,2,3]]) @ np.array([[1,2,3]])\n",
    "\n"
   ]
  },
  {
   "cell_type": "code",
   "execution_count": null,
   "metadata": {},
   "outputs": [],
   "source": []
  },
  {
   "cell_type": "code",
   "execution_count": null,
   "metadata": {},
   "outputs": [],
   "source": []
  }
 ],
 "metadata": {
  "kernelspec": {
   "display_name": "Python 3",
   "language": "python",
   "name": "python3"
  },
  "language_info": {
   "codemirror_mode": {
    "name": "ipython",
    "version": 3
   },
   "file_extension": ".py",
   "mimetype": "text/x-python",
   "name": "python",
   "nbconvert_exporter": "python",
   "pygments_lexer": "ipython3",
   "version": "3.6.5"
  }
 },
 "nbformat": 4,
 "nbformat_minor": 2
}
