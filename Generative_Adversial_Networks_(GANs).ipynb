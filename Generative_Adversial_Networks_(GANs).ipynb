{
  "nbformat": 4,
  "nbformat_minor": 0,
  "metadata": {
    "colab": {
      "name": "Generative Adversial Networks (GANs).ipynb",
      "version": "0.3.2",
      "provenance": [],
      "collapsed_sections": [],
      "include_colab_link": true
    },
    "kernelspec": {
      "name": "python3",
      "display_name": "Python 3"
    },
    "accelerator": "GPU"
  },
  "cells": [
    {
      "cell_type": "markdown",
      "metadata": {
        "id": "view-in-github",
        "colab_type": "text"
      },
      "source": [
        "<a href=\"https://colab.research.google.com/github/Javortper/My-neural-networks-studies/blob/master/Generative_Adversial_Networks_(GANs).ipynb\" target=\"_parent\"><img src=\"https://colab.research.google.com/assets/colab-badge.svg\" alt=\"Open In Colab\"/></a>"
      ]
    },
    {
      "cell_type": "markdown",
      "metadata": {
        "id": "FmFH_Jd-Y8fz",
        "colab_type": "text"
      },
      "source": [
        "#Introducción del notebook\n",
        "\n",
        "En este Notebook recogeré información teórica sobre las GANs. Mi idea es entender bien como funcionan y a partir de ahi intentar implementar una por mi cuenta. \n",
        "\n",
        "Recursos usados:\n",
        "\n",
        "[A Gentle Introduction to Generative Adversarial Networks ](https://machinelearningmastery.com/what-are-generative-adversarial-networks-gans/)\n",
        "\n",
        "[A Beginner's Guide to Generative Adversarial Networks (GANs)](https://skymind.ai/wiki/generative-adversarial-network-gan)\n",
        "\n",
        "[Understanding Generative Adversarial Networks (GANs)](https://towardsdatascience.com/understanding-generative-adversarial-networks-gans-cd6e4651a29)\n",
        "\n",
        "[Generative Adversarial Network(GAN) using Keras](https://medium.com/datadriveninvestor/generative-adversarial-network-gan-using-keras-ce1c05cfdfd3)\n",
        "\n",
        "\n",
        "\n",
        "\n",
        "\n"
      ]
    },
    {
      "cell_type": "markdown",
      "metadata": {
        "id": "OAUhyivNNBmz",
        "colab_type": "text"
      },
      "source": [
        "##DUDAS y TODOs\n",
        "\n",
        "-¿Qué es mejor usar de ruido, [-1,1] o [0,1]?\n",
        "\n",
        "-¿Como funciona el loss del generador y el discriminador?¿Como deben evoluciona?\n"
      ]
    },
    {
      "cell_type": "markdown",
      "metadata": {
        "id": "muBvKFxGxokG",
        "colab_type": "text"
      },
      "source": [
        "#Parte teórica: fundamentos de las GANs"
      ]
    },
    {
      "cell_type": "markdown",
      "metadata": {
        "id": "chtNsEBrdu2y",
        "colab_type": "text"
      },
      "source": [
        "\n",
        "##¿Que son los Generative Adversarial Networks?"
      ]
    },
    {
      "cell_type": "markdown",
      "metadata": {
        "id": "1zymnx9EZjSV",
        "colab_type": "text"
      },
      "source": [
        "Los Generative Adversarial Networks (GANs) o redes generativas antagónicas en español, son modelos de Deep Learning basados en modelos generadores. Las GANs son modelos con arquitecturas para entrenar un modelo generador y la mayoria de veces se hace uso de modelos de Deep Learning para esta arquitectura.\n",
        "\n",
        "La primera arquitectura GAN se mostró en 2014 en el paper de Ian Goodfellow titulado [\"Generative Adversarial Networks](https://arxiv.org/abs/1406.2661)\n",
        "\n",
        "Un modelo GAN hace uso de dos submodelos. Un modelo **generador** para crear nuevos ejemplos y un modelo **discriminador** para clasificar ejemplos como reales o falsos (generados por el generator).\n",
        "\n",
        "```\n",
        "*Generative adversarial networks are based on a game theoretic scenario in which the generator network must compete against an adversary. The generator network directly produces samples. Its adversary, the discriminator network, attempts to distinguish between samples drawn from the training data and samples drawn from the generator.*\n",
        "```\n",
        "-Cita del libro Deep Learning, página 699. \n",
        "\n"
      ]
    },
    {
      "cell_type": "markdown",
      "metadata": {
        "id": "mKQJNv1MwYo6",
        "colab_type": "text"
      },
      "source": [
        "## ¿Cómo funcionan las GANs?\n",
        "\n",
        "El modelo **generador** crea nuevos ejemplos de datos mientras que el **discriminador** evalua su autenticidad. Es decir, el generador busca engañar sin ser pillado y el el discriminador intenta identificar aquellas imágenes que vienen del generador como falsas.\n",
        "\n",
        "Los pasos que hace un GAN son:\n",
        "1.   El generador toma un número aleatorio y devuelve una imagen.\n",
        "2.   La imagen generada se pasa al discriminador junto  a una secuencia de imágenes reales.\n",
        "3.   El disciminador clasifica como reales o falsas y devuelve probabilidades entre 0 y 1, siendo 1 predicción de aunténtica y 0 falsa.\n",
        "\n",
        "Para el caso de MNIST, la red discrimandora es una red convolucional estandar que puede clasificar imagenes como reales o falsas. El generador es basicamente lo inverso a una red convolucional, mientras que la convolucional toma imágenes y le hace downsampling (capa de Pooling) obtener una probabilidad, el generador toma un vector de ruido aleatorio y le aplica \"upsampling\" para obtener una imagen.\n",
        "\n",
        "Las dos redes buscan optimizar diferentes funciones objetivos o funciones de perdida. Funcionando como un [juego de suma cero](https://es.wikipedia.org/wiki/Juego_de_suma_cero). Esto es basicamente un **actor-critic model**(buscar información), donde cambios en el discriminador provoca cambios en el generador y viceversa. \n",
        "\n",
        "![Ejemplo de GAN funcionando con MNIST. Recurso tomado de https://www.freecodecamp.org/news/an-intuitive-introduction-to-generative-adversarial-networks-gans-7a2264a81394/](https://cdn-media-1.freecodecamp.org/images/m41LtQVUf3uk5IOYlHLpPazxI3pWDwG8VEvU)\n",
        "\n",
        "En definitiva:\n",
        "\n",
        "\n",
        "*   El generador busca maximizar la probabilidad de que el discriminador falle.\n",
        "*   El disciminador guía al generador para producir imágenes mas realistas.\n",
        "\n",
        "\n"
      ]
    },
    {
      "cell_type": "markdown",
      "metadata": {
        "id": "gGDKyvmMRhk6",
        "colab_type": "text"
      },
      "source": [
        "##Profundizando en el funcionamiento\n",
        "\n",
        "###El modelo generador\n",
        "\n",
        "[Información tomada de este artículo](https://machinelearningmastery.com/what-are-generative-adversarial-networks-gans/).\n",
        "\n",
        "El generador toma como entrada una variable aleatoria y genera una muestra dentro del dominion.\n",
        "\n",
        "El vector se genera aleatoriamente a partir de una distribución Gaussiana. Este vector alimenta el proceso de generar una imagen. Despues del entrenamiento, los puntos del espacio de este vector multidimensional corresponderan con puntos dentro del dominio del problema, formando una representación comprimida de la distribución de la información.\n",
        "\n",
        "Este vector espacio se denomina como \"latent space\" o \"vector space comprised of [latent variables](https://en.wikipedia.org/wiki/Latent_variable). Latent variables o variables ocultas son unas variables importantes para el dominio pero que no son observables directamente.\n",
        "\n",
        "Muchas veces nos referimos a estas latent variables o latent space como una proyección o compresión de una distribución de datos. \n",
        "\n",
        "```\n",
        "\"That is, a latent space provides a compression or high-level concepts of the observed raw data such as the input data distribution. In the case of GANs, the generator model applies meaning to points in a chosen latent space, such that new points drawn from the latent space can be provided to the generator model as input and used to generate new and different output examples.\"\n",
        "\n",
        "```\n",
        "\n",
        "### El modelo discriminador\n",
        "El modelo discriminador toma un ejemplo del dominio como entrada (real o generado) y predice una clase binaria con la etiqueta de \"real\" o \"fake\".\n",
        "\n",
        "Los ejemplos reales vienen del training dataset y los generador del modelo generador.\n",
        "\n",
        "El modelo discriminador es basicamente un modelo de clasificación estandar que hace uso de una CNN para la clasificación.\n",
        "\n",
        "### GANs como un juego de dos jugadores\n",
        "\n",
        "Los dos modelos, G y D, se entrenan juntos. El generador crear batches de muestras, y estos, junto a ejemplos reales del dominio se pasan al descriminador para que los clasifique. Despues de esto el discriminador se actualiza para hacer mejores discriminaciones de real y falso en la siguiente ronda, y además, importante, el generador se actualiza basado en como de bien o mal las muestras generadas engañan al discriminador. De esta manera, mirándolo desde una perspectiva de teoría de juegos, los dos modelos serían adversarios jugando a un [juego de suma cero](https://en.wikipedia.org/wiki/Zero-sum_game) Citando a Goodfellows en su tutorial de GANs en el NIPS 2016: *\"Because the GAN framework can naturally be analyzed with the tools of game theory, we call GANs \"adversarial\"\"*\n",
        "\n",
        "En esto caso, suma cero sería cuando el discriminador identifica correctamente las muestras reales  y falsas, y no es necesario realizar actualizaciones en los parametros del generador mientras que el generador es penalizado con acttualizaciones.\n",
        "\n",
        "Alternativamente, cuando el generador miente al discriminador, se premia, o no se necesitan cambios en los parametros del modelo pero el discriminador debe ser penalzado con actualizaciones.\n",
        "\n",
        "Como limite, el generador genera replicas perfectas cada vez y el discriminador no puede encontrar diferencias y predice \"inseguro\" (0.5) en cada caso. Esto es un caso ideal, no es necesario que nuestro modelo llegue a tal punto.\n",
        "\n"
      ]
    },
    {
      "cell_type": "markdown",
      "metadata": {
        "id": "25BshneZOICB",
        "colab_type": "text"
      },
      "source": [
        "# Parte práctica: Implementación en Keras\n",
        "[Libro - Deep Learning with Python.](http://faculty.neu.edu.cn/yury/AAI/Textbook/Deep%20Learning%20with%20Python.pdf)\n",
        "\n",
        "[MEDIUM - Generative adversarial networks using Keras](https://medium.com/datadriveninvestor/generative-adversarial-network-gan-using-keras-ce1c05cfdfd3)\n",
        "\n",
        "[Artículo - GAN by Example using Keras on Tensorflow Backend](https://towardsdatascience.com/gan-by-example-using-keras-on-tensorflow-backend-1a6d515a60d0)\n",
        "\n",
        "[Artículo - DCGAN Implementation in Keras explained](https://medium.com/@ramyahrgowda/dcgan-implementation-in-keras-explained-e1918fc930ea)\n",
        "\n",
        "[Artículo científico - Unsupervised Representation Learning With Deep Convolutional Generative Adversarial Networks](https://arxiv.org/pdf/1511.06434.pdf)\n",
        "\n",
        "Haremos la implementación del GAN en Keras. Concretamente haremos una DCGAN, (DC viene de deep convolutional). Esto es una GAN donde el generador y discriminador son redes convolucionales. Usaremos una capa Conv2DTranspose para hacer upsampling en el generador.\n",
        "\n",
        "Usaremos el Dataset CIFAR10 (**CAMBIAR, MNIST**) pero sólo con la clase \"rana\". Esquemáticamente la GAN se mostrará tal que así:\n",
        "1.   Un *generador* que mapee un vector unidimensional de shape 100 a imágenes (28,28,1).\n",
        "2.   Un *discriminador* que devuelva la probabilidad de que una imagen  sea real.\n",
        "3.   Una red *gan* que una al generador y al discriminador con gan(X) = discriminator(generator(X)). Con esto el gan evaluará el realismo del generador. DUDA\n",
        "4.   Entrenaremos el discriminador usando ejemplos reales y falsos con etiquetas \"real\"/\"fake\" igual que cualquier clasificador de imágenes.\n",
        "5.   Para entrenar el generador, usaremos el gradiente de los pesos del generador respecto a la función pérdida del modelo *gan*. Eso significa, que en cada paso, **modificaremos los pesos del generador en una dirección donde el discriminador clasifica como \"real\" las imagenes decodificadas por el generador**. En otras palabras, entrenamos el generador para engañar al discriminador.\n",
        "\n",
        "### Pequeños tricks\n",
        "\n",
        "El proceso de entrenar las GANs y ajustarlas es dificil. Hay varios truquitos que deberiamos tener en cuenta. \n",
        "\n",
        "*   Usar *tanh* en la última activación del generador en vez de *sigmoid*.** Buscar el por qué.**\n",
        "*   Samplearemos puntos del espacio usando *normal distribution* (Gaussion distribution), no uniform distribution. **Informarse de esto**.\n",
        "*   Estocasticidad es buena para conseguir robustez. Esto es debido a que el resultado del entrenamiento de una GAN es un equilibrio dinámico, las GANs son propensas a atascarse de muchas maneras. Introducir aleatoriedad durante el entrenamineot ayuda a prevenir esto. Esta aleatoriedad la introduciremos de dos maneras: usando **dropout** en el discriminador y añadiendo ruido aleatorio a las etiquetas para el discriminador.\n",
        "\n",
        "*   Operaciones de *MaxPooling* y activaciones *ReLu* pueden producir un gradiente escaso. En vez de max pooling se recomienda usar **strided convolutions** y en vez de activación *ReLu* usar *LeakyRelu*. Esta es parecida a *ReLu* pero estas nunca llegan a cero de tal manera que el gradiente nunca termina de pararse. **BUSCAR INFO**\n",
        "*   En las imagenes generadas es comun ver ciertos artifacts causados por no se cubrir todo el espacio de pixeles en el generador. Para arreglar esto, usaremos un tamaño de kernel que sea divisible por el stride (o paso/salto) cuando usemos strided *Conv2DTranspose* o *Conv2D* tanto en el generador como el discriminador.\n",
        "\n",
        "\n",
        "\n",
        "\n",
        "\n",
        "\n",
        "\n",
        "\n",
        "\n",
        "\n",
        "\n",
        "\n"
      ]
    },
    {
      "cell_type": "markdown",
      "metadata": {
        "id": "9iOtfSFO0luk",
        "colab_type": "text"
      },
      "source": [
        "### El generador\n",
        "\n",
        "Primero desarrollaremos el **modelo generador** que transforme un vector (from the latent space during training it will be sampled at random) a una imagen candidata. Uno de los principales problemas de las GANs es que el generador quede atascado con las imágenes generadas que parezcan ruido. Una posible solución es usar dropout tanto en el discriminador como el generador.\n",
        "\n",
        "![Imagen obtenida de https://medium.com/@ramyahrgowda/dcgan-implementation-in-keras-explained-e1918fc930ea](https://miro.medium.com/max/955/1*deJwkHRrQqY2bUfHPG9Ipw.png)\n",
        "\n",
        "El vector de ruido lo metemos a una fully connected layer de 7x7x256. Esta tendrá una salida con función de activación **Leaky ReLU** y funcion de **Batch Normalization**.\n",
        "\n",
        "![Dentro del generador](https://miro.medium.com/max/1364/1*wAb-J_qTptaHDUPufynM2g.png)\n",
        "\n",
        "####¿Cómo aprende el generador?\n",
        "Una de las cosas más interesantes de las GANs es como mejora el generador para crear imágenes más reales. El meollo aquí es que aprende la red para pasar de un vector ruido a una imagen. Esto esta en la fully connected layer, debe aprender a realizar distribuciones semejantes a las de las imágenes reales. **BUSCAR INFORMACIÓN**\n",
        "\n",
        "\n",
        "\n",
        "-Hemos metido un dropout despues de la fully connected\n",
        "\n",
        "-Hemos cambiado orden del leaky y batchnormalization\n",
        "\n",
        "-Tamaño krnel a (4,4)\n",
        "\n",
        "-El generador no se compila al final. La compilación la hace ya todo el gan y ahi le damos un optimizador."
      ]
    },
    {
      "cell_type": "code",
      "metadata": {
        "id": "vp2PA5z30oDo",
        "colab_type": "code",
        "outputId": "7826c9f8-cb40-4939-cf95-4fbce48ef19c",
        "colab": {
          "base_uri": "https://localhost:8080/",
          "height": 1000
        }
      },
      "source": [
        "from keras.models import Sequential\n",
        "from keras.layers import Reshape, MaxPooling2D, Dropout, Flatten, Dense, Conv2D, Conv2DTranspose, BatchNormalization, LeakyReLU, Activation\n",
        "import numpy as np\n",
        "from keras.optimizers import Adam, SGD\n",
        "\n",
        "generator = Sequential()\n",
        "\n",
        "#Vector ruido a fully connected layer\n",
        "generator.add(Dense(7*7*256, input_dim=100))\n",
        "generator.add(LeakyReLU(alpha=0.2))\n",
        "generator.add(BatchNormalization())\n",
        "generator.add(Reshape((7, 7, 256)))\n",
        "generator.add(Dropout(0.4))\n",
        "\n",
        "\n",
        "\n",
        "#Primera capa Convolucional transpuesta\n",
        "generator.add(Conv2DTranspose(filters=128, kernel_size=(4,4),\n",
        "                              strides=(1, 1), padding='same'))\n",
        "generator.add(BatchNormalization())\n",
        "generator.add(LeakyReLU(alpha=0.2))\n",
        "\n",
        "\n",
        "\n",
        "#2nda convolución\n",
        "generator.add(Conv2DTranspose(filters=64, kernel_size=(4,4),\n",
        "                              strides=(2, 2), padding='same'))\n",
        "generator.add(BatchNormalization())\n",
        "generator.add(LeakyReLU(alpha=0.2))\n",
        "\n",
        "#3ra convolución\n",
        "generator.add(Conv2DTranspose(filters=1, kernel_size=(4,4),\n",
        "                              strides=(2, 2), padding='same'))\n",
        "generator.add(BatchNormalization())\n",
        "generator.add(LeakyReLU(alpha=0.2))\n",
        "\n",
        "#Capa de activación Tanh\n",
        "generator.add(Activation('tanh'))\n",
        "\n",
        "\n",
        "#Instanciamos el modelo con entrada con shape (latent_dim,) into a imagen de shape (32,32,3)\n",
        "generator.summary()\n",
        "\n",
        "opt = Adam(lr=0.0002, beta_1=0.5)\n",
        "generator.compile(loss='binary_crossentropy', optimizer=opt)"
      ],
      "execution_count": 0,
      "outputs": [
        {
          "output_type": "stream",
          "text": [
            "Using TensorFlow backend.\n",
            "WARNING: Logging before flag parsing goes to stderr.\n",
            "W0809 16:14:58.438912 139922714285952 deprecation_wrapper.py:119] From /usr/local/lib/python3.6/dist-packages/keras/backend/tensorflow_backend.py:74: The name tf.get_default_graph is deprecated. Please use tf.compat.v1.get_default_graph instead.\n",
            "\n",
            "W0809 16:14:58.458427 139922714285952 deprecation_wrapper.py:119] From /usr/local/lib/python3.6/dist-packages/keras/backend/tensorflow_backend.py:517: The name tf.placeholder is deprecated. Please use tf.compat.v1.placeholder instead.\n",
            "\n",
            "W0809 16:14:58.460669 139922714285952 deprecation_wrapper.py:119] From /usr/local/lib/python3.6/dist-packages/keras/backend/tensorflow_backend.py:4138: The name tf.random_uniform is deprecated. Please use tf.random.uniform instead.\n",
            "\n",
            "W0809 16:14:58.537479 139922714285952 deprecation_wrapper.py:119] From /usr/local/lib/python3.6/dist-packages/keras/backend/tensorflow_backend.py:133: The name tf.placeholder_with_default is deprecated. Please use tf.compat.v1.placeholder_with_default instead.\n",
            "\n",
            "W0809 16:14:58.565880 139922714285952 deprecation.py:506] From /usr/local/lib/python3.6/dist-packages/keras/backend/tensorflow_backend.py:3445: calling dropout (from tensorflow.python.ops.nn_ops) with keep_prob is deprecated and will be removed in a future version.\n",
            "Instructions for updating:\n",
            "Please use `rate` instead of `keep_prob`. Rate should be set to `rate = 1 - keep_prob`.\n",
            "W0809 16:14:58.614229 139922714285952 deprecation_wrapper.py:119] From /usr/local/lib/python3.6/dist-packages/keras/backend/tensorflow_backend.py:174: The name tf.get_default_session is deprecated. Please use tf.compat.v1.get_default_session instead.\n",
            "\n",
            "W0809 16:14:59.350450 139922714285952 deprecation_wrapper.py:119] From /usr/local/lib/python3.6/dist-packages/keras/backend/tensorflow_backend.py:1834: The name tf.nn.fused_batch_norm is deprecated. Please use tf.compat.v1.nn.fused_batch_norm instead.\n",
            "\n",
            "W0809 16:14:59.699966 139922714285952 deprecation_wrapper.py:119] From /usr/local/lib/python3.6/dist-packages/keras/optimizers.py:790: The name tf.train.Optimizer is deprecated. Please use tf.compat.v1.train.Optimizer instead.\n",
            "\n",
            "W0809 16:14:59.710133 139922714285952 deprecation.py:323] From /usr/local/lib/python3.6/dist-packages/tensorflow/python/ops/nn_impl.py:180: add_dispatch_support.<locals>.wrapper (from tensorflow.python.ops.array_ops) is deprecated and will be removed in a future version.\n",
            "Instructions for updating:\n",
            "Use tf.where in 2.0, which has the same broadcast rule as np.where\n"
          ],
          "name": "stderr"
        },
        {
          "output_type": "stream",
          "text": [
            "_________________________________________________________________\n",
            "Layer (type)                 Output Shape              Param #   \n",
            "=================================================================\n",
            "dense_1 (Dense)              (None, 12544)             1266944   \n",
            "_________________________________________________________________\n",
            "leaky_re_lu_1 (LeakyReLU)    (None, 12544)             0         \n",
            "_________________________________________________________________\n",
            "batch_normalization_1 (Batch (None, 12544)             50176     \n",
            "_________________________________________________________________\n",
            "reshape_1 (Reshape)          (None, 7, 7, 256)         0         \n",
            "_________________________________________________________________\n",
            "dropout_1 (Dropout)          (None, 7, 7, 256)         0         \n",
            "_________________________________________________________________\n",
            "conv2d_transpose_1 (Conv2DTr (None, 7, 7, 128)         524416    \n",
            "_________________________________________________________________\n",
            "batch_normalization_2 (Batch (None, 7, 7, 128)         512       \n",
            "_________________________________________________________________\n",
            "leaky_re_lu_2 (LeakyReLU)    (None, 7, 7, 128)         0         \n",
            "_________________________________________________________________\n",
            "conv2d_transpose_2 (Conv2DTr (None, 14, 14, 64)        131136    \n",
            "_________________________________________________________________\n",
            "batch_normalization_3 (Batch (None, 14, 14, 64)        256       \n",
            "_________________________________________________________________\n",
            "leaky_re_lu_3 (LeakyReLU)    (None, 14, 14, 64)        0         \n",
            "_________________________________________________________________\n",
            "conv2d_transpose_3 (Conv2DTr (None, 28, 28, 1)         1025      \n",
            "_________________________________________________________________\n",
            "batch_normalization_4 (Batch (None, 28, 28, 1)         4         \n",
            "_________________________________________________________________\n",
            "leaky_re_lu_4 (LeakyReLU)    (None, 28, 28, 1)         0         \n",
            "_________________________________________________________________\n",
            "activation_1 (Activation)    (None, 28, 28, 1)         0         \n",
            "=================================================================\n",
            "Total params: 1,974,469\n",
            "Trainable params: 1,948,995\n",
            "Non-trainable params: 25,474\n",
            "_________________________________________________________________\n"
          ],
          "name": "stdout"
        }
      ]
    },
    {
      "cell_type": "markdown",
      "metadata": {
        "id": "_a9P9t1-i5Ep",
        "colab_type": "text"
      },
      "source": [
        "Vamos a probar a usar el generador (que aun no está entrenado) para generar una imagen de ejemplo."
      ]
    },
    {
      "cell_type": "code",
      "metadata": {
        "id": "PFdzLIEvi_gx",
        "colab_type": "code",
        "outputId": "cc0a624a-a14a-4478-a791-8428e9bc671c",
        "colab": {
          "base_uri": "https://localhost:8080/",
          "height": 287
        }
      },
      "source": [
        "import matplotlib.pyplot as plt\n",
        "\n",
        "noise = np.random.normal(-1,1, (1, 100))\n",
        "imagen_generada = generator.predict(noise, batch_size=1)\n",
        "plt.imshow(imagen_generada[0, :, :, 0], cmap='gray')\n"
      ],
      "execution_count": 0,
      "outputs": [
        {
          "output_type": "execute_result",
          "data": {
            "text/plain": [
              "<matplotlib.image.AxesImage at 0x7f41f16381d0>"
            ]
          },
          "metadata": {
            "tags": []
          },
          "execution_count": 2
        },
        {
          "output_type": "display_data",
          "data": {
            "image/png": "[encoded data removed]",
            "text/plain": [
              "<Figure size 432x288 with 1 Axes>"
            ]
          },
          "metadata": {
            "tags": []
          }
        }
      ]
    },
    {
      "cell_type": "markdown",
      "metadata": {
        "id": "RycG5R1O2wLe",
        "colab_type": "text"
      },
      "source": [
        "### El discriminador\n",
        "\n",
        "Ahora haremos haremos el *discriminador* el cual toma una imagen (real o generada) y la clasifica a una de estas dos calses: \"real image\" o \"generated image\". Paa MNIST tendrá una entrada de (28,28,1). La diferencia de una CNN estandar es la ausencia de max-pooling en las capas intermedias. En vez de esto usaremos las strided convolutions para el downsampling. \n",
        "\n",
        "![texto alternativo](https://miro.medium.com/max/1364/1*QY1ghK_mS_szHkB7GPWO_A.png)\n",
        "\n",
        "\n",
        "\n",
        "-HEMOS CAMBIADO orden batchnorm y leaky\n",
        "\n",
        "-Hemos quitado batch norm de la primera capa\n",
        "\n",
        "-Añadido una tercera capa convolucional\n",
        "\n",
        "-Hay que añadir capa de pooling tras la convolucional?"
      ]
    },
    {
      "cell_type": "code",
      "metadata": {
        "id": "4a-nDjTsjOHR",
        "colab_type": "code",
        "outputId": "2dd9c3ac-f53b-4c44-e058-abb89b787fe0",
        "colab": {
          "base_uri": "https://localhost:8080/",
          "height": 513
        }
      },
      "source": [
        "discriminator = Sequential()\n",
        "\n",
        "#Primera capa convolucional\n",
        "discriminator.add(Conv2D(input_shape = (28,28,1), filters=64,\n",
        "                         kernel_size=(5,5), strides=(2,2), padding='same'))\n",
        "#discriminator.add(BatchNormalization())\n",
        "discriminator.add(LeakyReLU(alpha=0.2))\n",
        "#discriminator.add(MaxPooling2D(pool_size=(2, 2)))\n",
        "\n",
        "#Segunda capa convolucional\n",
        "discriminator.add(Conv2D(filters=128,kernel_size=(5,5), strides=(2,2), padding='same'))\n",
        "discriminator.add(LeakyReLU(alpha=0.2))\n",
        "discriminator.add(Dropout(0.4))\n",
        "#discriminator.add(MaxPooling2D(pool_size=(2, 2)))\n",
        "\n",
        "#Tercera capa convolucional2\n",
        "discriminator.add(Conv2D(filters=256,kernel_size=(5,5), strides=(2,2), padding='same'))\n",
        "discriminator.add(LeakyReLU(alpha=0.2))\n",
        "discriminator.add(Dropout(0.4))\n",
        "\n",
        "#Capa flatten\n",
        "discriminator.add(Flatten())\n",
        "\n",
        "#Fully connected layer\n",
        "discriminator.add(Dense(1, activation='sigmoid'))\n",
        "\n",
        "discriminator.summary()\n",
        "\n",
        "optimizador= Adam(lr=0.0002, beta_1=0.5)\n",
        "discriminator.compile(loss='binary_crossentropy', optimizer=opt)"
      ],
      "execution_count": 0,
      "outputs": [
        {
          "output_type": "stream",
          "text": [
            "_________________________________________________________________\n",
            "Layer (type)                 Output Shape              Param #   \n",
            "=================================================================\n",
            "conv2d_1 (Conv2D)            (None, 14, 14, 64)        1664      \n",
            "_________________________________________________________________\n",
            "leaky_re_lu_5 (LeakyReLU)    (None, 14, 14, 64)        0         \n",
            "_________________________________________________________________\n",
            "conv2d_2 (Conv2D)            (None, 7, 7, 128)         204928    \n",
            "_________________________________________________________________\n",
            "leaky_re_lu_6 (LeakyReLU)    (None, 7, 7, 128)         0         \n",
            "_________________________________________________________________\n",
            "dropout_2 (Dropout)          (None, 7, 7, 128)         0         \n",
            "_________________________________________________________________\n",
            "conv2d_3 (Conv2D)            (None, 4, 4, 256)         819456    \n",
            "_________________________________________________________________\n",
            "leaky_re_lu_7 (LeakyReLU)    (None, 4, 4, 256)         0         \n",
            "_________________________________________________________________\n",
            "dropout_3 (Dropout)          (None, 4, 4, 256)         0         \n",
            "_________________________________________________________________\n",
            "flatten_1 (Flatten)          (None, 4096)              0         \n",
            "_________________________________________________________________\n",
            "dense_2 (Dense)              (None, 1)                 4097      \n",
            "=================================================================\n",
            "Total params: 1,030,145\n",
            "Trainable params: 1,030,145\n",
            "Non-trainable params: 0\n",
            "_________________________________________________________________\n"
          ],
          "name": "stdout"
        }
      ]
    },
    {
      "cell_type": "markdown",
      "metadata": {
        "id": "KtwZJV0d1yAg",
        "colab_type": "text"
      },
      "source": [
        "### Adversarial network\n",
        "\n",
        "Finalmente vamos a preparar el GAN, que une el generador y el discriminador. Entrenar el gan actualizará los pesos del generador de tal manera que haga que el discriminador prediga como \"real\" las imagenes que genera. Es muy importante poner el discriminador como frozen durante el entrenamiento. Sus pesos no deben ser actualizados cuando entrenamos el gan. Si los pesos del discriminador se actualizan durante el proceso, entoncesestariamos entrenando el discriminador para que seimpre prediga como \"real\", y esto no es lo que queremos.\n",
        "\n",
        "**Importante**: \n",
        "\n",
        "Aquí debemos usar la clase Model de Keras. Para la entrada le daremos la entrada del generador y la salida la salida del discriminador."
      ]
    },
    {
      "cell_type": "code",
      "metadata": {
        "id": "veMalKo32o-D",
        "colab_type": "code",
        "outputId": "7ff7e205-d279-4ad2-98b5-4e52fd1e01ab",
        "colab": {
          "base_uri": "https://localhost:8080/",
          "height": 256
        }
      },
      "source": [
        "from keras.models import Model\n",
        "from keras.layers import Input\n",
        "\n",
        "#Desactivamos entrenamiento para el discriminador\n",
        "discriminator.trainable = False\n",
        "\n",
        "#Unimos D y G para crear la red GAN\n",
        "gan_input = Input(shape=(100,)) #Generamos un tensor para la entrada de la red\n",
        "x = generator(gan_input)\n",
        "gan_output = discriminator(x)\n",
        "gan = Model(inputs=gan_input, outputs=gan_output)\n",
        "gan.compile(loss='binary_crossentropy', optimizer=opt)\n",
        "\n",
        "gan.summary()\n",
        "\n"
      ],
      "execution_count": 0,
      "outputs": [
        {
          "output_type": "stream",
          "text": [
            "_________________________________________________________________\n",
            "Layer (type)                 Output Shape              Param #   \n",
            "=================================================================\n",
            "input_1 (InputLayer)         (None, 100)               0         \n",
            "_________________________________________________________________\n",
            "sequential_1 (Sequential)    (None, 28, 28, 1)         1974469   \n",
            "_________________________________________________________________\n",
            "sequential_2 (Sequential)    (None, 1)                 1030145   \n",
            "=================================================================\n",
            "Total params: 3,004,614\n",
            "Trainable params: 1,948,995\n",
            "Non-trainable params: 1,055,619\n",
            "_________________________________________________________________\n"
          ],
          "name": "stdout"
        }
      ]
    },
    {
      "cell_type": "markdown",
      "metadata": {
        "id": "mjtbzKrCaQyc",
        "colab_type": "text"
      },
      "source": [
        "###Entrenamiento\n",
        "\n",
        "En el entrenamiento se **entrenan conjuntamente** el modelo generador y discriminador. En cada **epoch** hacemos los siguientes pasos:\n",
        "\n",
        "Para cada **epoch**:\n",
        "\n",
        "  -Para cada **batch**:\n",
        "\n",
        "1.   Entrenamos el discriminador.\n",
        "2.   Entrenamos el generador (es decir, entrenamos el GAN con el entrenamiento del discriminador desactivado).\n",
        "\n",
        "Primero **entrenamos el discriminador** en solitario. Para esto le meteremos dos batches por epoch **batch con imagenes reales y batch con imagenes generadas** con el generador. Las imágenes reales tendrán una etiqueta de 1 y las falsas de 0. De entrenar el discriminador con dos batch de diferentes clases obtendremos dos funciones loss, una para la pérdida que tiene el discriminador con las imagenes reales y otra con los aciertos. Para sacar el loss total haremos la media. Otro posible método sería usar un batch completo 50% real y 50% generado y obtendriamos solo una función loss. Como cualquier CNN estandar vaya.\n",
        "\n",
        "Segundo **entrenamos el GAN** con el aprendizaje en el generador **desactivado**. Es decir, como imagen de entrenamiento usaremos un vector de ruido aleatorio cuya etiqueta será '1' (para que el generador se acerque a aqueellas clasificaciones que el discriminador hace como '1' o 'real') y la salida que dará el GAN serán un valor entre 0 y 1, es decir, la salida que da el discriminador. \n",
        "\n",
        "De esta forma vamos entrenando poco a poco el el generador y el discriminador consiguiendo poco a poco imágenes más parecidas al dominio de problemas.\n",
        "\n",
        "**Importante:**\n",
        "\n",
        "-Para el ruido usamos np.random.normal el cual crea un vector aleatorio con **distribución gaussiana**.\n",
        "\n",
        "-Para hacer un **GIF** con la evolución de las imagenes que crea el GAN y una mejor visualización de como mejora la red crearemos el **vector ruido con una semilla**, de este modo siempre usaremos el mismo.\n",
        "\n",
        "-Para el gif usaremos imageio.\n"
      ]
    },
    {
      "cell_type": "code",
      "metadata": {
        "id": "c6Mo0HCiQFXF",
        "colab_type": "code",
        "colab": {}
      },
      "source": [
        "\n",
        "def show_sample(noise):\n",
        "  imagen_generada = generator.predict(noise, batch_size=1)\n",
        "  plt.imshow(imagen_generada[0, :, :, 0], cmap='gray')\n",
        "  plt.show()"
      ],
      "execution_count": 0,
      "outputs": []
    },
    {
      "cell_type": "code",
      "metadata": {
        "id": "8KpZAF2Jaj7s",
        "colab_type": "code",
        "outputId": "5fe9945e-8dc0-4ace-adcf-b745630e8ebe",
        "colab": {
          "base_uri": "https://localhost:8080/",
          "height": 1000
        }
      },
      "source": [
        "from keras.datasets import mnist\n",
        "import random\n",
        "import tensorflow as tf\n",
        "\n",
        "SAVE_FREQ = 1000\n",
        "epochs = 10000\n",
        "batch_size = 128\n",
        "half_batch_size = batch_size//2\n",
        "#np.random.seed(1)\n",
        "#Ruido generado para la evolucion\n",
        "static_noise = np.random.normal(-1,1, (1, 100))\n",
        "\n",
        "#Cargamos los datos\n",
        "(x_train, y_train), (_, _) = mnist.load_data()\n",
        "X_train = x_train.reshape(x_train.shape[0], 28, 28, 1)\n",
        "X_train = X_train.astype('float32')\n",
        "X_train = X_train / 127.5 - 1.\n",
        "\n",
        "for epoch in range(epochs):\n",
        "  #-------------\n",
        "  #DISCRIMINADOR\n",
        "  #-------------\n",
        "  \n",
        "  #Creamos un batch para cada clase\n",
        "  noise = np.random.normal(-1,1, (half_batch_size, 100))\n",
        "  imagenes_generadas = generator.predict(noise)\n",
        "  idx = np.random.randint(0,X_train.shape[0],half_batch_size)\n",
        "  imagenes_reales = X_train[idx]\n",
        "    \n",
        "  #Creamos las etiquetas\n",
        "  fake_labels = np.zeros((half_batch_size,1)) #Etiquetas img generadas\n",
        "  real_labels = np.ones((half_batch_size,1)) #Etiquetas img reales\n",
        "\n",
        "  #Entrenamos y obtenemos los diferentes loss\n",
        "  discriminator.trainable = True\n",
        "  d_loss_real = discriminator.train_on_batch(imagenes_reales, real_labels)\n",
        "  \n",
        "  d_loss_fake = discriminator.train_on_batch(imagenes_generadas, fake_labels)\n",
        "  \n",
        "  d_loss = 0.5 * np.add(d_loss_fake, d_loss_real)\n",
        "\n",
        "  #-------------\n",
        "  #GENERADOR\n",
        "  #-------------  \n",
        "  \n",
        "  discriminator.trainable = False\n",
        "  #Introducimos vector ruido con etiqueta 1\n",
        "  labels = np.array([1]*batch_size)\n",
        "  noise = np.random.normal(-1,1, (batch_size, 100)) #32 vectores ruidos (1 epoch) de dimension 100\n",
        "  gan_loss = gan.train_on_batch(noise, labels)\n",
        "\n",
        "  #Visualización del entrenamiento\n",
        "  #plotGeneratedImages(epoch)\n",
        "  if epoch % SAVE_FREQ == 0:\n",
        "    show_sample(static_noise)\n",
        "    print(f\"Epoch {epoch}, Discriminator loss: {d_loss}, Generator loss: {gan_loss}\")  \n"
      ],
      "execution_count": 0,
      "outputs": [
        {
          "output_type": "display_data",
          "data": {
            "image/png": "[encoded data removed]",
            "text/plain": [
              "<Figure size 432x288 with 1 Axes>"
            ]
          },
          "metadata": {
            "tags": []
          }
        },
        {
          "output_type": "stream",
          "text": [
            "Epoch 0, Discriminator loss: 0.6983824968338013, Generator loss: 0.6719878911972046\n"
          ],
          "name": "stdout"
        },
        {
          "output_type": "display_data",
          "data": {
            "image/png": "[encoded data removed]",
            "text/plain": [
              "<Figure size 432x288 with 1 Axes>"
            ]
          },
          "metadata": {
            "tags": []
          }
        },
        {
          "output_type": "stream",
          "text": [
            "Epoch 1000, Discriminator loss: 0.00029056522180326283, Generator loss: 13.14969253540039\n"
          ],
          "name": "stdout"
        },
        {
          "output_type": "display_data",
          "data": {
            "image/png": "[encoded data removed]",
            "text/plain": [
              "<Figure size 432x288 with 1 Axes>"
            ]
          },
          "metadata": {
            "tags": []
          }
        },
        {
          "output_type": "stream",
          "text": [
            "Epoch 2000, Discriminator loss: 0.0014557460090145469, Generator loss: 12.607677459716797\n"
          ],
          "name": "stdout"
        },
        {
          "output_type": "display_data",
          "data": {
            "image/png": "[encoded data removed]",
            "text/plain": [
              "<Figure size 432x288 with 1 Axes>"
            ]
          },
          "metadata": {
            "tags": []
          }
        },
        {
          "output_type": "stream",
          "text": [
            "Epoch 3000, Discriminator loss: 0.00039357005152851343, Generator loss: 12.034948348999023\n"
          ],
          "name": "stdout"
        },
        {
          "output_type": "display_data",
          "data": {
            "image/png": "[encoded data removed]",
            "text/plain": [
              "<Figure size 432x288 with 1 Axes>"
            ]
          },
          "metadata": {
            "tags": []
          }
        },
        {
          "output_type": "stream",
          "text": [
            "Epoch 4000, Discriminator loss: 0.0011539600091055036, Generator loss: 15.062939643859863\n"
          ],
          "name": "stdout"
        },
        {
          "output_type": "display_data",
          "data": {
            "image/png": "[encoded data removed]",
            "text/plain": [
              "<Figure size 432x288 with 1 Axes>"
            ]
          },
          "metadata": {
            "tags": []
          }
        },
        {
          "output_type": "stream",
          "text": [
            "Epoch 5000, Discriminator loss: 0.00011319162149447948, Generator loss: 8.299933433532715\n"
          ],
          "name": "stdout"
        },
        {
          "output_type": "display_data",
          "data": {
            "image/png": "[encoded data removed]",
            "text/plain": [
              "<Figure size 432x288 with 1 Axes>"
            ]
          },
          "metadata": {
            "tags": []
          }
        },
        {
          "output_type": "stream",
          "text": [
            "Epoch 6000, Discriminator loss: 0.0046776896342635155, Generator loss: 15.542160034179688\n"
          ],
          "name": "stdout"
        },
        {
          "output_type": "display_data",
          "data": {
            "image/png": "[encoded data removed]",
            "text/plain": [
              "<Figure size 432x288 with 1 Axes>"
            ]
          },
          "metadata": {
            "tags": []
          }
        },
        {
          "output_type": "stream",
          "text": [
            "Epoch 7000, Discriminator loss: 0.0004233914369251579, Generator loss: 12.854059219360352\n"
          ],
          "name": "stdout"
        },
        {
          "output_type": "display_data",
          "data": {
            "image/png": "[encoded data removed]",
            "text/plain": [
              "<Figure size 432x288 with 1 Axes>"
            ]
          },
          "metadata": {
            "tags": []
          }
        },
        {
          "output_type": "stream",
          "text": [
            "Epoch 8000, Discriminator loss: 0.0005389106227084994, Generator loss: 13.979413986206055\n"
          ],
          "name": "stdout"
        },
        {
          "output_type": "error",
          "ename": "KeyboardInterrupt",
          "evalue": "ignored",
          "traceback": [
            "\u001b[0;31m---------------------------------------------------------------------------\u001b[0m",
            "\u001b[0;31mKeyboardInterrupt\u001b[0m                         Traceback (most recent call last)",
            "\u001b[0;32m<ipython-input-6-66f9391e8fad>\u001b[0m in \u001b[0;36m<module>\u001b[0;34m()\u001b[0m\n\u001b[1;32m     24\u001b[0m   \u001b[0;31m#Creamos un batch para cada clase\u001b[0m\u001b[0;34m\u001b[0m\u001b[0;34m\u001b[0m\u001b[0;34m\u001b[0m\u001b[0m\n\u001b[1;32m     25\u001b[0m   \u001b[0mnoise\u001b[0m \u001b[0;34m=\u001b[0m \u001b[0mnp\u001b[0m\u001b[0;34m.\u001b[0m\u001b[0mrandom\u001b[0m\u001b[0;34m.\u001b[0m\u001b[0mnormal\u001b[0m\u001b[0;34m(\u001b[0m\u001b[0;34m-\u001b[0m\u001b[0;36m1\u001b[0m\u001b[0;34m,\u001b[0m\u001b[0;36m1\u001b[0m\u001b[0;34m,\u001b[0m \u001b[0;34m(\u001b[0m\u001b[0mhalf_batch_size\u001b[0m\u001b[0;34m,\u001b[0m \u001b[0;36m100\u001b[0m\u001b[0;34m)\u001b[0m\u001b[0;34m)\u001b[0m\u001b[0;34m\u001b[0m\u001b[0;34m\u001b[0m\u001b[0m\n\u001b[0;32m---> 26\u001b[0;31m   \u001b[0mimagenes_generadas\u001b[0m \u001b[0;34m=\u001b[0m \u001b[0mgenerator\u001b[0m\u001b[0;34m.\u001b[0m\u001b[0mpredict\u001b[0m\u001b[0;34m(\u001b[0m\u001b[0mnoise\u001b[0m\u001b[0;34m)\u001b[0m\u001b[0;34m\u001b[0m\u001b[0;34m\u001b[0m\u001b[0m\n\u001b[0m\u001b[1;32m     27\u001b[0m   \u001b[0midx\u001b[0m \u001b[0;34m=\u001b[0m \u001b[0mnp\u001b[0m\u001b[0;34m.\u001b[0m\u001b[0mrandom\u001b[0m\u001b[0;34m.\u001b[0m\u001b[0mrandint\u001b[0m\u001b[0;34m(\u001b[0m\u001b[0;36m0\u001b[0m\u001b[0;34m,\u001b[0m\u001b[0mX_train\u001b[0m\u001b[0;34m.\u001b[0m\u001b[0mshape\u001b[0m\u001b[0;34m[\u001b[0m\u001b[0;36m0\u001b[0m\u001b[0;34m]\u001b[0m\u001b[0;34m,\u001b[0m\u001b[0mhalf_batch_size\u001b[0m\u001b[0;34m)\u001b[0m\u001b[0;34m\u001b[0m\u001b[0;34m\u001b[0m\u001b[0m\n\u001b[1;32m     28\u001b[0m   \u001b[0mimagenes_reales\u001b[0m \u001b[0;34m=\u001b[0m \u001b[0mX_train\u001b[0m\u001b[0;34m[\u001b[0m\u001b[0midx\u001b[0m\u001b[0;34m]\u001b[0m\u001b[0;34m\u001b[0m\u001b[0;34m\u001b[0m\u001b[0m\n",
            "\u001b[0;32m/usr/local/lib/python3.6/dist-packages/keras/engine/training.py\u001b[0m in \u001b[0;36mpredict\u001b[0;34m(self, x, batch_size, verbose, steps)\u001b[0m\n\u001b[1;32m   1167\u001b[0m                                             \u001b[0mbatch_size\u001b[0m\u001b[0;34m=\u001b[0m\u001b[0mbatch_size\u001b[0m\u001b[0;34m,\u001b[0m\u001b[0;34m\u001b[0m\u001b[0;34m\u001b[0m\u001b[0m\n\u001b[1;32m   1168\u001b[0m                                             \u001b[0mverbose\u001b[0m\u001b[0;34m=\u001b[0m\u001b[0mverbose\u001b[0m\u001b[0;34m,\u001b[0m\u001b[0;34m\u001b[0m\u001b[0;34m\u001b[0m\u001b[0m\n\u001b[0;32m-> 1169\u001b[0;31m                                             steps=steps)\n\u001b[0m\u001b[1;32m   1170\u001b[0m \u001b[0;34m\u001b[0m\u001b[0m\n\u001b[1;32m   1171\u001b[0m     def train_on_batch(self, x, y,\n",
            "\u001b[0;32m/usr/local/lib/python3.6/dist-packages/keras/engine/training_arrays.py\u001b[0m in \u001b[0;36mpredict_loop\u001b[0;34m(model, f, ins, batch_size, verbose, steps)\u001b[0m\n\u001b[1;32m    292\u001b[0m                 \u001b[0mins_batch\u001b[0m\u001b[0;34m[\u001b[0m\u001b[0mi\u001b[0m\u001b[0;34m]\u001b[0m \u001b[0;34m=\u001b[0m \u001b[0mins_batch\u001b[0m\u001b[0;34m[\u001b[0m\u001b[0mi\u001b[0m\u001b[0;34m]\u001b[0m\u001b[0;34m.\u001b[0m\u001b[0mtoarray\u001b[0m\u001b[0;34m(\u001b[0m\u001b[0;34m)\u001b[0m\u001b[0;34m\u001b[0m\u001b[0;34m\u001b[0m\u001b[0m\n\u001b[1;32m    293\u001b[0m \u001b[0;34m\u001b[0m\u001b[0m\n\u001b[0;32m--> 294\u001b[0;31m             \u001b[0mbatch_outs\u001b[0m \u001b[0;34m=\u001b[0m \u001b[0mf\u001b[0m\u001b[0;34m(\u001b[0m\u001b[0mins_batch\u001b[0m\u001b[0;34m)\u001b[0m\u001b[0;34m\u001b[0m\u001b[0;34m\u001b[0m\u001b[0m\n\u001b[0m\u001b[1;32m    295\u001b[0m             \u001b[0mbatch_outs\u001b[0m \u001b[0;34m=\u001b[0m \u001b[0mto_list\u001b[0m\u001b[0;34m(\u001b[0m\u001b[0mbatch_outs\u001b[0m\u001b[0;34m)\u001b[0m\u001b[0;34m\u001b[0m\u001b[0;34m\u001b[0m\u001b[0m\n\u001b[1;32m    296\u001b[0m             \u001b[0;32mif\u001b[0m \u001b[0mbatch_index\u001b[0m \u001b[0;34m==\u001b[0m \u001b[0;36m0\u001b[0m\u001b[0;34m:\u001b[0m\u001b[0;34m\u001b[0m\u001b[0;34m\u001b[0m\u001b[0m\n",
            "\u001b[0;32m/usr/local/lib/python3.6/dist-packages/keras/backend/tensorflow_backend.py\u001b[0m in \u001b[0;36m__call__\u001b[0;34m(self, inputs)\u001b[0m\n\u001b[1;32m   2713\u001b[0m                 \u001b[0;32mreturn\u001b[0m \u001b[0mself\u001b[0m\u001b[0;34m.\u001b[0m\u001b[0m_legacy_call\u001b[0m\u001b[0;34m(\u001b[0m\u001b[0minputs\u001b[0m\u001b[0;34m)\u001b[0m\u001b[0;34m\u001b[0m\u001b[0;34m\u001b[0m\u001b[0m\n\u001b[1;32m   2714\u001b[0m \u001b[0;34m\u001b[0m\u001b[0m\n\u001b[0;32m-> 2715\u001b[0;31m             \u001b[0;32mreturn\u001b[0m \u001b[0mself\u001b[0m\u001b[0;34m.\u001b[0m\u001b[0m_call\u001b[0m\u001b[0;34m(\u001b[0m\u001b[0minputs\u001b[0m\u001b[0;34m)\u001b[0m\u001b[0;34m\u001b[0m\u001b[0;34m\u001b[0m\u001b[0m\n\u001b[0m\u001b[1;32m   2716\u001b[0m         \u001b[0;32melse\u001b[0m\u001b[0;34m:\u001b[0m\u001b[0;34m\u001b[0m\u001b[0;34m\u001b[0m\u001b[0m\n\u001b[1;32m   2717\u001b[0m             \u001b[0;32mif\u001b[0m \u001b[0mpy_any\u001b[0m\u001b[0;34m(\u001b[0m\u001b[0mis_tensor\u001b[0m\u001b[0;34m(\u001b[0m\u001b[0mx\u001b[0m\u001b[0;34m)\u001b[0m \u001b[0;32mfor\u001b[0m \u001b[0mx\u001b[0m \u001b[0;32min\u001b[0m \u001b[0minputs\u001b[0m\u001b[0;34m)\u001b[0m\u001b[0;34m:\u001b[0m\u001b[0;34m\u001b[0m\u001b[0;34m\u001b[0m\u001b[0m\n",
            "\u001b[0;32m/usr/local/lib/python3.6/dist-packages/keras/backend/tensorflow_backend.py\u001b[0m in \u001b[0;36m_call\u001b[0;34m(self, inputs)\u001b[0m\n\u001b[1;32m   2673\u001b[0m             \u001b[0mfetched\u001b[0m \u001b[0;34m=\u001b[0m \u001b[0mself\u001b[0m\u001b[0;34m.\u001b[0m\u001b[0m_callable_fn\u001b[0m\u001b[0;34m(\u001b[0m\u001b[0;34m*\u001b[0m\u001b[0marray_vals\u001b[0m\u001b[0;34m,\u001b[0m \u001b[0mrun_metadata\u001b[0m\u001b[0;34m=\u001b[0m\u001b[0mself\u001b[0m\u001b[0;34m.\u001b[0m\u001b[0mrun_metadata\u001b[0m\u001b[0;34m)\u001b[0m\u001b[0;34m\u001b[0m\u001b[0;34m\u001b[0m\u001b[0m\n\u001b[1;32m   2674\u001b[0m         \u001b[0;32melse\u001b[0m\u001b[0;34m:\u001b[0m\u001b[0;34m\u001b[0m\u001b[0;34m\u001b[0m\u001b[0m\n\u001b[0;32m-> 2675\u001b[0;31m             \u001b[0mfetched\u001b[0m \u001b[0;34m=\u001b[0m \u001b[0mself\u001b[0m\u001b[0;34m.\u001b[0m\u001b[0m_callable_fn\u001b[0m\u001b[0;34m(\u001b[0m\u001b[0;34m*\u001b[0m\u001b[0marray_vals\u001b[0m\u001b[0;34m)\u001b[0m\u001b[0;34m\u001b[0m\u001b[0;34m\u001b[0m\u001b[0m\n\u001b[0m\u001b[1;32m   2676\u001b[0m         \u001b[0;32mreturn\u001b[0m \u001b[0mfetched\u001b[0m\u001b[0;34m[\u001b[0m\u001b[0;34m:\u001b[0m\u001b[0mlen\u001b[0m\u001b[0;34m(\u001b[0m\u001b[0mself\u001b[0m\u001b[0;34m.\u001b[0m\u001b[0moutputs\u001b[0m\u001b[0;34m)\u001b[0m\u001b[0;34m]\u001b[0m\u001b[0;34m\u001b[0m\u001b[0;34m\u001b[0m\u001b[0m\n\u001b[1;32m   2677\u001b[0m \u001b[0;34m\u001b[0m\u001b[0m\n",
            "\u001b[0;32m/usr/local/lib/python3.6/dist-packages/tensorflow/python/client/session.py\u001b[0m in \u001b[0;36m__call__\u001b[0;34m(self, *args, **kwargs)\u001b[0m\n\u001b[1;32m   1456\u001b[0m         ret = tf_session.TF_SessionRunCallable(self._session._session,\n\u001b[1;32m   1457\u001b[0m                                                \u001b[0mself\u001b[0m\u001b[0;34m.\u001b[0m\u001b[0m_handle\u001b[0m\u001b[0;34m,\u001b[0m \u001b[0margs\u001b[0m\u001b[0;34m,\u001b[0m\u001b[0;34m\u001b[0m\u001b[0;34m\u001b[0m\u001b[0m\n\u001b[0;32m-> 1458\u001b[0;31m                                                run_metadata_ptr)\n\u001b[0m\u001b[1;32m   1459\u001b[0m         \u001b[0;32mif\u001b[0m \u001b[0mrun_metadata\u001b[0m\u001b[0;34m:\u001b[0m\u001b[0;34m\u001b[0m\u001b[0;34m\u001b[0m\u001b[0m\n\u001b[1;32m   1460\u001b[0m           \u001b[0mproto_data\u001b[0m \u001b[0;34m=\u001b[0m \u001b[0mtf_session\u001b[0m\u001b[0;34m.\u001b[0m\u001b[0mTF_GetBuffer\u001b[0m\u001b[0;34m(\u001b[0m\u001b[0mrun_metadata_ptr\u001b[0m\u001b[0;34m)\u001b[0m\u001b[0;34m\u001b[0m\u001b[0;34m\u001b[0m\u001b[0m\n",
            "\u001b[0;31mKeyboardInterrupt\u001b[0m: "
          ]
        }
      ]
    },
    {
      "cell_type": "code",
      "metadata": {
        "id": "kyQePaZl7pSU",
        "colab_type": "code",
        "colab": {}
      },
      "source": [
        "# Probamos la discriminadora\n",
        "idx = np.random.randint(0,X_train.shape[0],half_batch_size)\n",
        "batch_reales = X_train[idx]\n",
        "discriminator.predict(batch_reales)"
      ],
      "execution_count": 0,
      "outputs": []
    },
    {
      "cell_type": "code",
      "metadata": {
        "id": "KQmkgWPLg3gE",
        "colab_type": "code",
        "colab": {}
      },
      "source": [
        "noise_a=np.random.normal(-1,1, (1, 100))\n",
        "generada = generator.predict(noise_a, verbose=1)\n",
        "generada = generada*127.5+127.5\n",
        "plt.imshow(generada[0, :, :, 0], cmap='gray')\n",
        "\n"
      ],
      "execution_count": 0,
      "outputs": []
    }
  ]
}